{
 "cells": [
  {
   "cell_type": "code",
   "execution_count": 1,
   "id": "185b163c-8a27-4876-99ef-c179644f78dc",
   "metadata": {},
   "outputs": [
    {
     "name": "stdout",
     "output_type": "stream",
     "text": [
      "Defaulting to user installation because normal site-packages is not writeable\n",
      "Requirement already satisfied: torch in /home/jasonsohn/.local/lib/python3.8/site-packages (1.10.0+cu113)\n",
      "Requirement already satisfied: typing-extensions in /home/jasonsohn/.local/lib/python3.8/site-packages (from torch) (4.0.0)\n"
     ]
    }
   ],
   "source": [
    "!pip install torch # 앞에 '!'가 붙는 명령은 파이썬이 아니라 Shell script로 실행됨. 파이토치 설치 명령"
   ]
  },
  {
   "cell_type": "code",
   "execution_count": 2,
   "id": "4d2a7660-e64c-4817-9f98-751c4f29da92",
   "metadata": {},
   "outputs": [],
   "source": [
    "import torch"
   ]
  },
  {
   "cell_type": "markdown",
   "id": "0765426a-18df-4a4c-957a-0cf6033c6bf1",
   "metadata": {
    "tags": []
   },
   "source": [
    "### 파이토치에서 GPU를 왜, 어떻게 쓰나요?\n",
    "\n",
    "**CPU,GPU 관련 상대 속도 개요:**\n",
    "\n",
    "```\n",
    "┌───────────┐            ┌───────────┐\n",
    "│    CPU    │ ─────────► │    GPU    │\n",
    "│   느리지만  │ 느린 전송    │ 빠르지만    │\n",
    "│다양한 연산  │ ◄────────  │ 특수 연산만  │\n",
    "└────┬─▲────┘            └────┬─▲────┘\n",
    "     │ │ 빠른 전송              │ │ 아주 빠른 전송\n",
    "  ┌──▼─┴──┐                ┌──▼─┴───┐\n",
    "  │  RAM  │                │  VRAM  │\n",
    "  │       │                │        │\n",
    "  └───────┘                └────────┘\n",
    "```"
   ]
  },
  {
   "cell_type": "markdown",
   "id": "226e92a7-b4e6-4e70-a94b-7ed49c0aebb9",
   "metadata": {},
   "source": [
    "## 어떻게?"
   ]
  },
  {
   "cell_type": "markdown",
   "id": "b14fa672-4427-4ac6-bdc0-7c58d9427c75",
   "metadata": {},
   "source": [
    "파이토치는 기본적으로 새로운 텐서 (추가적인 기능이 있는 숫자 데이터 형식) 를 시스템 RAM에 생성하고, CPU 로 연산을 수행합니다."
   ]
  },
  {
   "cell_type": "code",
   "execution_count": 3,
   "id": "c12961f9-5e33-4b82-bd95-4987f2f45f39",
   "metadata": {},
   "outputs": [],
   "source": [
    "a = torch.tensor([2.,3.])"
   ]
  },
  {
   "cell_type": "code",
   "execution_count": 4,
   "id": "b7a5033b-5129-408b-8a8a-428cf34680d6",
   "metadata": {},
   "outputs": [
    {
     "data": {
      "text/plain": [
       "device(type='cpu')"
      ]
     },
     "execution_count": 4,
     "metadata": {},
     "output_type": "execute_result"
    }
   ],
   "source": [
    "a.device "
   ]
  },
  {
   "cell_type": "markdown",
   "id": "10a25186-fec2-45fc-8267-72aceaa3bf83",
   "metadata": {},
   "source": [
    "보시다시피 'a'라는 텐서는 'cpu'라는 'device'에 저장되어있습니다."
   ]
  },
  {
   "cell_type": "markdown",
   "id": "ffab4f9e-be1c-4b89-af02-d5084d693458",
   "metadata": {},
   "source": [
    "지금 GPU 를 활용할 수 있는지 확인해볼까요?"
   ]
  },
  {
   "cell_type": "code",
   "execution_count": 5,
   "id": "cdc90441-e514-4f7e-a852-e8bb5b99544b",
   "metadata": {},
   "outputs": [
    {
     "data": {
      "text/plain": [
       "True"
      ]
     },
     "execution_count": 5,
     "metadata": {},
     "output_type": "execute_result"
    }
   ],
   "source": [
    "torch.cuda.is_available()"
   ]
  },
  {
   "cell_type": "markdown",
   "id": "47514e3d-3727-4728-aeaf-c3a4c5a846d8",
   "metadata": {},
   "source": [
    "가능하다면, 현재 'cpu'에 거주하는 'a' 텐서를 'cuda'라고 불리는 GPU로 옮겨봅시다"
   ]
  },
  {
   "cell_type": "code",
   "execution_count": 6,
   "id": "14899d76-0f5a-4de9-b2bd-abf76d3b1f9e",
   "metadata": {},
   "outputs": [
    {
     "name": "stdout",
     "output_type": "stream",
     "text": [
      "cuda:0\n"
     ]
    }
   ],
   "source": [
    "if torch.cuda.is_available():\n",
    "    a = a.cuda()\n",
    "    a = a.to('cuda:0') # 위와 동일한 기능\n",
    "    print(a.device)"
   ]
  },
  {
   "cell_type": "markdown",
   "id": "0bdbeffb-aca5-494c-9f34-869897a6e744",
   "metadata": {},
   "source": [
    "이제 텐서 저장 위치가 'cuda:0'로 바뀌었습니다. 끝에 '0'은 \"첫번째 GPU' 를 뜻합니다 (한대의 컴퓨터에 수개의 GPU 장착이 가능하기 때문에)"
   ]
  },
  {
   "cell_type": "markdown",
   "id": "6292935d-ed98-42b7-beb2-a91308de4220",
   "metadata": {
    "tags": []
   },
   "source": [
    "## 왜?"
   ]
  },
  {
   "cell_type": "markdown",
   "id": "cd0d4c9b-fa29-4afd-ae03-04d942b79238",
   "metadata": {},
   "source": [
    "그럼, CPU와 GPU 속도의 차이를 실감나게 테스트해보죠. 간단하게 10000x10000 랜덤 2차원 배열을 세제곱 합니다."
   ]
  },
  {
   "cell_type": "code",
   "execution_count": 7,
   "id": "30023eaa-e244-478f-891e-b3161139909f",
   "metadata": {},
   "outputs": [
    {
     "data": {
      "text/plain": [
       "tensor([[-1.4877,  0.2730],\n",
       "        [ 0.7363,  0.0047]])"
      ]
     },
     "execution_count": 7,
     "metadata": {},
     "output_type": "execute_result"
    }
   ],
   "source": [
    "torch.randn((2,2))"
   ]
  },
  {
   "cell_type": "code",
   "execution_count": 8,
   "id": "b67be1d3-a3db-4ad3-91b3-83c254b77b8a",
   "metadata": {},
   "outputs": [
    {
     "name": "stdout",
     "output_type": "stream",
     "text": [
      "559 ms ± 1.63 ms per loop (mean ± std. dev. of 7 runs, 1 loop each)\n"
     ]
    }
   ],
   "source": [
    "%%timeit\n",
    "b = torch.randn((10000,10000), device='cpu')\n",
    "b ** 3"
   ]
  },
  {
   "cell_type": "code",
   "execution_count": 9,
   "id": "fefc7bb2-45c6-4251-beed-50c5898d70fe",
   "metadata": {},
   "outputs": [
    {
     "name": "stdout",
     "output_type": "stream",
     "text": [
      "3.39 ms ± 1.94 µs per loop (mean ± std. dev. of 7 runs, 1000 loops each)\n"
     ]
    }
   ],
   "source": [
    "%%timeit\n",
    "b = torch.randn((10000,10000), device='cuda:0')\n",
    "b ** 3"
   ]
  },
  {
   "cell_type": "markdown",
   "id": "6cae7930-83f3-4a2d-b65e-4052315d191e",
   "metadata": {},
   "source": [
    "## 거의 ***200배*** 빠르네요!"
   ]
  },
  {
   "cell_type": "markdown",
   "id": "9996fe5a-a514-492f-b670-faa2cddc84a0",
   "metadata": {
    "tags": []
   },
   "source": [
    "# 기타 정보"
   ]
  },
  {
   "cell_type": "markdown",
   "id": "8842386e-c86a-4760-abbd-e63958161d2c",
   "metadata": {},
   "source": [
    "설치된 GPU 상태를 보려면, 다음 명령을 사용해요"
   ]
  },
  {
   "cell_type": "code",
   "execution_count": 10,
   "id": "ad5eddd2-d4c4-4d8c-912b-b03760f6ca45",
   "metadata": {},
   "outputs": [
    {
     "name": "stdout",
     "output_type": "stream",
     "text": [
      "Sat Dec  4 22:38:44 2021       \n",
      "+-----------------------------------------------------------------------------+\n",
      "| NVIDIA-SMI 470.86       Driver Version: 470.86       CUDA Version: 11.4     |\n",
      "|-------------------------------+----------------------+----------------------+\n",
      "| GPU  Name        Persistence-M| Bus-Id        Disp.A | Volatile Uncorr. ECC |\n",
      "| Fan  Temp  Perf  Pwr:Usage/Cap|         Memory-Usage | GPU-Util  Compute M. |\n",
      "|                               |                      |               MIG M. |\n",
      "|===============================+======================+======================|\n",
      "|   0  NVIDIA GeForce ...  Off  | 00000000:01:00.0  On |                  N/A |\n",
      "|  0%   52C    P8    21W / 235W |   3958MiB /  7948MiB |      0%      Default |\n",
      "|                               |                      |                  N/A |\n",
      "+-------------------------------+----------------------+----------------------+\n",
      "                                                                               \n",
      "+-----------------------------------------------------------------------------+\n",
      "| Processes:                                                                  |\n",
      "|  GPU   GI   CI        PID   Type   Process name                  GPU Memory |\n",
      "|        ID   ID                                                   Usage      |\n",
      "|=============================================================================|\n",
      "|    0   N/A  N/A      1142      G   /usr/lib/xorg/Xorg                166MiB |\n",
      "|    0   N/A  N/A      1299      G   /usr/bin/gnome-shell                5MiB |\n",
      "|    0   N/A  N/A      1751      G   /usr/lib/xorg/Xorg                840MiB |\n",
      "|    0   N/A  N/A      2278      G   /usr/bin/gnome-shell              108MiB |\n",
      "|    0   N/A  N/A      3736      G   /usr/lib/firefox/firefox           10MiB |\n",
      "|    0   N/A  N/A      4008      G   /usr/lib/firefox/firefox            2MiB |\n",
      "|    0   N/A  N/A      5317      G   alacritty                           9MiB |\n",
      "|    0   N/A  N/A      5383      G   alacritty                           9MiB |\n",
      "|    0   N/A  N/A      7859      G   /usr/lib/firefox/firefox            2MiB |\n",
      "|    0   N/A  N/A      8057      G   /usr/lib/firefox/firefox          601MiB |\n",
      "|    0   N/A  N/A      8202      G   alacritty                           9MiB |\n",
      "|    0   N/A  N/A     17441      G   /usr/lib/firefox/firefox            2MiB |\n",
      "|    0   N/A  N/A     74038      G   alacritty                           9MiB |\n",
      "|    0   N/A  N/A     89011      C   /usr/bin/python3                 2169MiB |\n",
      "+-----------------------------------------------------------------------------+\n"
     ]
    }
   ],
   "source": [
    "!nvidia-smi"
   ]
  }
 ],
 "metadata": {
  "kernelspec": {
   "display_name": "Python 3 (ipykernel)",
   "language": "python",
   "name": "python3"
  },
  "language_info": {
   "codemirror_mode": {
    "name": "ipython",
    "version": 3
   },
   "file_extension": ".py",
   "mimetype": "text/x-python",
   "name": "python",
   "nbconvert_exporter": "python",
   "pygments_lexer": "ipython3",
   "version": "3.8.10"
  }
 },
 "nbformat": 4,
 "nbformat_minor": 5
}
