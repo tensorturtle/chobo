{
 "cells": [
  {
   "cell_type": "markdown",
   "id": "faf6eaa7-e10b-4c1b-95df-47db2ba68e7c",
   "metadata": {},
   "source": [
    "# 객체지향적 (Object Oriented) 기초"
   ]
  },
  {
   "cell_type": "markdown",
   "id": "d2919450-6944-4c2e-97a5-3b6fbcd6122d",
   "metadata": {},
   "source": [
    "파이썬으로 딥러닝을 할려면 파이토치 (Facebook이 개발) 또는 텐서플로우 (Google이 개발) 를 사용합니다. 둘다 파이썬의 '객체지향적' (Object Oriented) 스타일을 이용합니다. \n",
    "\n",
    "Procedural 프로그래밍에 더 익숙한 분들을 위해 Object Oriented 리뷰를 하겠습니다"
   ]
  },
  {
   "cell_type": "markdown",
   "id": "b82784a2-cf03-4b88-a808-5a87bc74cc32",
   "metadata": {},
   "source": [
    "## 클래스와 인스턴스 속성 정의"
   ]
  },
  {
   "cell_type": "markdown",
   "id": "77d61945-42e1-4f22-8498-3a8c4fd45ce7",
   "metadata": {},
   "source": [
    "예시로, '자동차'라는 개념을 상징하는 클래스를 만들어 봅시다. 이 '자동차' 클래스에는 '가격' (`price`) 라는 인스턴스 속성이 있습니다."
   ]
  },
  {
   "cell_type": "code",
   "execution_count": 1,
   "id": "bf3fc5c4-d3a2-4c99-9c9c-ce3b668cbb3e",
   "metadata": {},
   "outputs": [],
   "source": [
    "class Car:\n",
    "    def __init__(self, price):\n",
    "        self.price = price"
   ]
  },
  {
   "cell_type": "markdown",
   "id": "459bb056-3f7b-4eea-98ae-6006f90f7e79",
   "metadata": {},
   "source": [
    "파이썬에서 클래스를 생성할떄는 반드시 `__init__()` 이라는 함수를 정의합니다. \n",
    "\n",
    "`__init__()` 함수는 클래스로 새로운 객체 (object)를 생성할때 자동으로 실행되고,\n",
    "\n",
    "이 `__init__()` 클래스 함수의 첫번째 인수 (argument)는 이 클래스를 기반으로 객체 (object)를 만들때, 그 object를 자체를 일컫는 변수 입니다.\n",
    "`self` 말고 아무 이름을 붙여도 괜찮지만, 그러는 사람은 한번도 못 봤습니다.\n",
    "\n",
    "\n",
    "참고로 앞,뒤로 두 개의 언더스코어 `__함수이름__` 같이 생긴 함수들은 파이썬 내부적으로 특별한 기능을 한다는 것을 표시합니다."
   ]
  },
  {
   "cell_type": "markdown",
   "id": "5e325770-b5c0-490c-8a0e-9619f16d46f5",
   "metadata": {},
   "source": [
    "`jeep`라는 자동차의 인스턴스를 만들어 봅시다. 위에서 정의한 `__init__(self. price)` 함수를 보니, 인스턴스를 만들때 `price`값도 정의해줘야 합니다"
   ]
  },
  {
   "cell_type": "code",
   "execution_count": 2,
   "id": "d0c05cec-5f17-4f24-a1cb-00ee2badecad",
   "metadata": {},
   "outputs": [],
   "source": [
    "jeep = Car(2000) # 2000 달러 가격의 자동차"
   ]
  },
  {
   "cell_type": "markdown",
   "id": "b99877c6-e823-46ee-9a76-07b309880c50",
   "metadata": {},
   "source": [
    "이렇게 클래스 이름 `Car` 바로 뒤에 `()` 를 붙이면, `__init__()`함수가 자동으로 실행되고, 새로운 object (클래스의 인스턴스 라고도 불림) 가 탄생합니다."
   ]
  },
  {
   "cell_type": "markdown",
   "id": "c14dd52f-f682-48a9-b16e-15633489ab5a",
   "metadata": {},
   "source": [
    "`jeep` 인스턴스의 속성은 이렇게 접근합니다"
   ]
  },
  {
   "cell_type": "code",
   "execution_count": 3,
   "id": "1fe250f2-3e38-4292-ab5d-d33ad9023c0f",
   "metadata": {},
   "outputs": [
    {
     "data": {
      "text/plain": [
       "2000"
      ]
     },
     "execution_count": 3,
     "metadata": {},
     "output_type": "execute_result"
    }
   ],
   "source": [
    "jeep.price "
   ]
  },
  {
   "cell_type": "markdown",
   "id": "f3c2f2b9-b779-4f90-8ee4-ab61db781ca3",
   "metadata": {},
   "source": [
    "바꿀수도 있어요"
   ]
  },
  {
   "cell_type": "code",
   "execution_count": 4,
   "id": "18b29b1d-ab8f-4b5e-bccc-eaf26c941e35",
   "metadata": {},
   "outputs": [],
   "source": [
    "jeep.price = 1800 # 가격이 내려갔어요!"
   ]
  },
  {
   "cell_type": "markdown",
   "id": "91f4a73b-548d-47c8-b32b-21c9a7c2aada",
   "metadata": {},
   "source": [
    "## 인스턴스 메소드 정의"
   ]
  },
  {
   "cell_type": "markdown",
   "id": "3552ecb6-0c28-423b-9bd3-91bf51d836d6",
   "metadata": {},
   "source": [
    "클래스를 정의할때는 기본적으로 두가지를 정의합니다:\n",
    "1. 속성 (변수): `__init__()` 메소드 안에서 `self.어쩌구저쩌구` 를 통해서 정의\n",
    "2. 메소드 (함수; 기능): 클래스 정의 안에서 `def 어쩌구(self):` 으로 정의\n",
    "\n",
    "위에서는 `price` 이라는 인스턴스 속성을 만들었죠?\n",
    "\n",
    "다음은 이 클래스 인스턴스들이 할수 있는 기능들을 상징하는 메소드를 만들어보죠.\n",
    "자동차 클래스니가 드라이브가 가능해야겠죠?"
   ]
  },
  {
   "cell_type": "code",
   "execution_count": 5,
   "id": "4482e637-08c2-4b3b-bd25-bd1099492b8e",
   "metadata": {},
   "outputs": [],
   "source": [
    "class Car:\n",
    "    def __init__(self, price): # 인스턴스 생성시 가격을 정의하는것 잊지 말아요\n",
    "        self.price = price\n",
    "        self.fuel = 100 # 차 새로 뽑을때 연료 가득 (100%) 로 설정합니다\n",
    "    \n",
    "    def drive(self):\n",
    "        self.fuel -= 10 # 차를 운전할때 연료가 10씩 감소합니다\n",
    "        \n",
    "    def refuel(self):\n",
    "        self.fuel = 100 # 주유하면, 100으로 가득 차요"
   ]
  },
  {
   "cell_type": "code",
   "execution_count": 6,
   "id": "65b5e377-e81b-42ab-a57f-1bed013f281c",
   "metadata": {},
   "outputs": [],
   "source": [
    "bmw = Car(4000) # 4000 달러 짜리 차"
   ]
  },
  {
   "cell_type": "code",
   "execution_count": 7,
   "id": "7b186d16-4c8e-4d9a-b96d-0ae118f00956",
   "metadata": {},
   "outputs": [
    {
     "data": {
      "text/plain": [
       "100"
      ]
     },
     "execution_count": 7,
     "metadata": {},
     "output_type": "execute_result"
    }
   ],
   "source": [
    "bmw.fuel # 처음엔 기름 가득으로 시작합니다"
   ]
  },
  {
   "cell_type": "code",
   "execution_count": 8,
   "id": "f8ccd291-59e9-49b4-8f08-fe1e4606ee13",
   "metadata": {},
   "outputs": [],
   "source": [
    "bmw.drive() # 인스턴스 메소드를 호출하려면, 이렇게 합니다"
   ]
  },
  {
   "cell_type": "code",
   "execution_count": 9,
   "id": "bcd338c2-51e4-4460-87f8-1122477cf983",
   "metadata": {},
   "outputs": [],
   "source": [
    "bmw.drive() # 한번 더 드라이브 갑니다"
   ]
  },
  {
   "cell_type": "code",
   "execution_count": 10,
   "id": "18b93b35-1ff2-4d38-993d-ef4307a81276",
   "metadata": {},
   "outputs": [
    {
     "data": {
      "text/plain": [
       "80"
      ]
     },
     "execution_count": 10,
     "metadata": {},
     "output_type": "execute_result"
    }
   ],
   "source": [
    "bmw.fuel # 연료가 얼마나 남았는지 볼까요"
   ]
  },
  {
   "cell_type": "markdown",
   "id": "76d9c954-d837-44a4-b09d-84172e448047",
   "metadata": {},
   "source": [
    "# 파이토치에 이게 어떻게 쓰이나요?"
   ]
  },
  {
   "cell_type": "code",
   "execution_count": 11,
   "id": "abf7b93b-b60e-48bc-8b68-73015567fed5",
   "metadata": {},
   "outputs": [],
   "source": [
    "import torch\n",
    "from torch import nn"
   ]
  },
  {
   "cell_type": "markdown",
   "id": "4efa266f-326a-4750-af3b-70e80ad29bc3",
   "metadata": {},
   "source": [
    "파이토치에서 딥러닝 모델을 정의할때, 파이썬 클래스로 정의합니다"
   ]
  },
  {
   "cell_type": "code",
   "execution_count": 12,
   "id": "dea4791a-7858-4358-b329-333195c412e1",
   "metadata": {},
   "outputs": [],
   "source": [
    "class MyModel(nn.Module):\n",
    "    def __init__(self):\n",
    "        super().__init__() # 이건 다음시간에 설명할게요\n",
    "        self.fc1 = nn.Linear(10,64) # 이렇게 인공 신경망에 사용될 부속품 (?) 들을 정의합니다\n",
    "        self.fc2 = nn.Linear(64,32)\n",
    "        self.fc3 = nn.Linear(32,10)\n",
    "    \n",
    "    def forward(self, x): # forward 라는 함수는 파이토치에서 특별한 함수 입니다. \n",
    "    # x라는 입력을 받았을때, 어떻게 가공해야 할지 정의를 여기서 합니다.\n",
    "    # 위 __init__() 함수에서 정의한 신경망 부속품 들을 어떤 방식으로 조립할지 여기서 정의합니다\n",
    "        x1 = self.fc1(x)\n",
    "        x2 = self.fc2(x1)\n",
    "        x3 = self.fc3(x2)\n",
    "        return x3"
   ]
  },
  {
   "cell_type": "code",
   "execution_count": 13,
   "id": "e2de0b9e-d4c0-473f-a718-80d900913740",
   "metadata": {},
   "outputs": [],
   "source": [
    "net = MyModel() # 인스턴스 생성합니다"
   ]
  },
  {
   "cell_type": "code",
   "execution_count": 14,
   "id": "601a543e-ea39-4fcb-ac43-91c3aeeee593",
   "metadata": {},
   "outputs": [],
   "source": [
    "x_example = torch.randn((10)) # 예시 입력 데이터"
   ]
  },
  {
   "cell_type": "code",
   "execution_count": 15,
   "id": "66464fa6-0199-43f7-a64b-0e57a8532c4f",
   "metadata": {},
   "outputs": [
    {
     "data": {
      "text/plain": [
       "tensor([ 0.0842, -0.2667,  0.4065,  0.2668,  0.2003, -0.0029, -0.2572, -0.1055,\n",
       "        -0.0937, -0.4287], grad_fn=<AddBackward0>)"
      ]
     },
     "execution_count": 15,
     "metadata": {},
     "output_type": "execute_result"
    }
   ],
   "source": [
    "net.forward(x_example)"
   ]
  },
  {
   "cell_type": "code",
   "execution_count": 16,
   "id": "67ec1cf5-b224-476b-8b85-c632ec5ef564",
   "metadata": {},
   "outputs": [
    {
     "data": {
      "text/plain": [
       "tensor([ 0.0842, -0.2667,  0.4065,  0.2668,  0.2003, -0.0029, -0.2572, -0.1055,\n",
       "        -0.0937, -0.4287], grad_fn=<AddBackward0>)"
      ]
     },
     "execution_count": 16,
     "metadata": {},
     "output_type": "execute_result"
    }
   ],
   "source": [
    "net(x_example) # 파이토치에서는, 이렇게 인스턴스를 함수처럼 부르면, 내부적으로 forward() 함수가 실행됩니다."
   ]
  },
  {
   "cell_type": "code",
   "execution_count": null,
   "id": "024a15a7-9c4a-4a60-8726-89d45e88041b",
   "metadata": {},
   "outputs": [],
   "source": []
  },
  {
   "cell_type": "code",
   "execution_count": null,
   "id": "8bd38db5-3b44-4a96-b1d2-90043344dcf5",
   "metadata": {},
   "outputs": [],
   "source": []
  }
 ],
 "metadata": {
  "kernelspec": {
   "display_name": "Python 3 (ipykernel)",
   "language": "python",
   "name": "python3"
  },
  "language_info": {
   "codemirror_mode": {
    "name": "ipython",
    "version": 3
   },
   "file_extension": ".py",
   "mimetype": "text/x-python",
   "name": "python",
   "nbconvert_exporter": "python",
   "pygments_lexer": "ipython3",
   "version": "3.8.10"
  }
 },
 "nbformat": 4,
 "nbformat_minor": 5
}
